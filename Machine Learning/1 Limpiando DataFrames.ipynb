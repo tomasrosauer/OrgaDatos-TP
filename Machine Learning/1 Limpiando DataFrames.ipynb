{
 "cells": [
  {
   "cell_type": "code",
   "execution_count": 1,
   "metadata": {},
   "outputs": [
    {
     "data": {
      "text/html": [
       "<style>.container { width:90% !important; }</style>"
      ],
      "text/plain": [
       "<IPython.core.display.HTML object>"
      ]
     },
     "metadata": {},
     "output_type": "display_data"
    }
   ],
   "source": [
    "from IPython.core.display import display, HTML\n",
    "display(HTML(\"<style>.container { width:90% !important; }</style>\"))"
   ]
  },
  {
   "cell_type": "code",
   "execution_count": 2,
   "metadata": {},
   "outputs": [],
   "source": [
    "import pandas as pd\n",
    "import numpy as np"
   ]
  },
  {
   "cell_type": "code",
   "execution_count": 3,
   "metadata": {},
   "outputs": [],
   "source": [
    "cols_drop = ['country_name','lat-lon','properati_url','image_thumbnail','title','extra','surface_in_m2']\n",
    "FILE_TRAIN = 'data/propiedades_completo.csv'\n",
    "FILE_TEST = 'data/properati_dataset_testing_noprice.csv'"
   ]
  },
  {
   "cell_type": "markdown",
   "metadata": {},
   "source": [
    "# Training Dataset"
   ]
  },
  {
   "cell_type": "code",
   "execution_count": 4,
   "metadata": {},
   "outputs": [],
   "source": [
    "propiedades = pd.read_csv(FILE_TRAIN, low_memory=False)"
   ]
  },
  {
   "cell_type": "code",
   "execution_count": 5,
   "metadata": {},
   "outputs": [
    {
     "data": {
      "text/plain": [
       "(338158, 29)"
      ]
     },
     "execution_count": 5,
     "metadata": {},
     "output_type": "execute_result"
    }
   ],
   "source": [
    "propiedades.shape"
   ]
  },
  {
   "cell_type": "markdown",
   "metadata": {},
   "source": [
    "Las siguentes lineas se encargan de filtrar las propiedades no deseadas dentro del total de las propiedades a gran escala, esto siendo filtrando la zona en la cual se encuentran, el año de creacion del aviso, y valores sin sentido de precio. Como tambien, en el bloque siguente a este, se filtran toda propiedad que no se _venda_ en _dolares_."
   ]
  },
  {
   "cell_type": "code",
   "execution_count": 6,
   "metadata": {},
   "outputs": [
    {
     "data": {
      "text/plain": [
       "(192820, 23)"
      ]
     },
     "execution_count": 6,
     "metadata": {},
     "output_type": "execute_result"
    }
   ],
   "source": [
    "propiedades = propiedades.loc[propiedades.state_name.str.contains('G.B.A') | propiedades.state_name.str.contains('Capital Federal')]\n",
    "propiedades = propiedades.loc[~ propiedades.property_type.str.contains('store')]\n",
    "propiedades['created_on'] = pd.to_datetime(propiedades['created_on'])\n",
    "propiedades.insert(3, 'year', propiedades['created_on'].dt.year)\n",
    "propiedades['year'] = propiedades['year'].fillna(0).astype(int)\n",
    "propiedades = propiedades.loc[propiedades.year > 2012]\n",
    "propiedades = propiedades.loc[propiedades.price < 20000000]\n",
    "propiedades = propiedades.loc[propiedades.price > 10000]\n",
    "propiedades = propiedades.drop(propiedades[cols_drop], axis=1)\n",
    "propiedades.shape"
   ]
  },
  {
   "cell_type": "code",
   "execution_count": 7,
   "metadata": {},
   "outputs": [],
   "source": [
    "propiedades.dropna(axis=0, how='any', subset=['currency'], inplace=True)\n",
    "propiedades = propiedades.loc[propiedades.currency.str.contains('USD')]\n",
    "propiedades = propiedades.loc[propiedades.operation.str.contains('sell')]\n"
   ]
  },
  {
   "cell_type": "markdown",
   "metadata": {},
   "source": [
    "Dado a que avisos en en el set de prueba contenienan tipos de valores distintos a _int_ como valor de la descripcion, se los deja lo mas limpio de caracteres posible para luego, tratar de convertirlos en a _int_, de no ser posible, se lo deja como __NaN__"
   ]
  },
  {
   "cell_type": "code",
   "execution_count": 8,
   "metadata": {},
   "outputs": [],
   "source": [
    "def validarExpensas(row):\n",
    "    if(type(row['expenses']) == type(1) or type(row['expenses']) == type(1.)):\n",
    "        return float(row['expenses'])\n",
    "    if row['expenses'].isdigit():\n",
    "        return float(row['expenses'])\n",
    "    return np.nan"
   ]
  },
  {
   "cell_type": "code",
   "execution_count": 9,
   "metadata": {},
   "outputs": [],
   "source": [
    "propiedades['expenses'] = propiedades['expenses'].replace('[\\$,)]','',  \\\n",
    "        regex=True).replace('[(]','-', regex=True)\n",
    "propiedades['expenses'] = propiedades.apply(lambda row: validarExpensas(row), axis=1)"
   ]
  },
  {
   "cell_type": "markdown",
   "metadata": {},
   "source": [
    "Para poder utilizar los algoritmos de machine learning es necesario que todos los valores que se les da para procesar sean numericos, entonces se remplaza los valores referidos a la zona y tipo de propiedad con valores categoricos, y se termina de descarta todas las columnas que no son necesarias."
   ]
  },
  {
   "cell_type": "code",
   "execution_count": 10,
   "metadata": {},
   "outputs": [],
   "source": [
    "cols = ['created_on', 'year', 'currency', 'geonames_id', 'operation', 'price_aprox_local_currency', 'price_aprox_usd', 'price_per_m2', 'price_usd_per_m2']\n",
    "propiedades.dropna(axis=0, how='any', subset=['price'], inplace=True)\n",
    "propiedades = propiedades.drop(propiedades[cols], axis=1)"
   ]
  },
  {
   "cell_type": "code",
   "execution_count": 11,
   "metadata": {},
   "outputs": [
    {
     "data": {
      "text/plain": [
       "['PH', 'apartment', 'house']"
      ]
     },
     "execution_count": 11,
     "metadata": {},
     "output_type": "execute_result"
    }
   ],
   "source": [
    "propiedades_categorias = propiedades\n",
    "categories = ['place_with_parent_names','place_name','property_type','state_name']\n",
    "dic_categories = {}    \n",
    "for cat in categories:\n",
    "    l = list(propiedades_categorias.groupby([cat]).count().transpose())\n",
    "    dic_categories[cat] = l\n",
    "\n",
    "def categorical(x, cat):\n",
    "    try:\n",
    "        return dic_categories[cat].index(x)\n",
    "    except ValueError:\n",
    "        return -1\n",
    "    \n",
    "dic_categories['property_type']"
   ]
  },
  {
   "cell_type": "code",
   "execution_count": 12,
   "metadata": {},
   "outputs": [],
   "source": [
    "for cat in categories:\n",
    "    propiedades[cat] = propiedades[cat].apply(lambda x: categorical(x,cat))"
   ]
  },
  {
   "cell_type": "code",
   "execution_count": 13,
   "metadata": {},
   "outputs": [],
   "source": [
    "CSV_NAME = 'data/training.csv'\n",
    "propiedades.to_csv(CSV_NAME, index=False)"
   ]
  },
  {
   "cell_type": "markdown",
   "metadata": {},
   "source": [
    "# Kaggle Test Dataset"
   ]
  },
  {
   "cell_type": "markdown",
   "metadata": {},
   "source": [
    "Al igual que para los datos de entrenamiento, se transforman algunos valores ilogicos a __NaN__ para luego remplazarlos con valores mas comunes.\n",
    "Cuando se combierten los valores categoricos a numeros, estas categorias se remplazan en base a las creadas con anterioridad para mantener cuerencia en los resultados."
   ]
  },
  {
   "cell_type": "code",
   "execution_count": 24,
   "metadata": {},
   "outputs": [],
   "source": [
    "propiedades = pd.read_csv(FILE_TEST, low_memory=False)"
   ]
  },
  {
   "cell_type": "code",
   "execution_count": 25,
   "metadata": {},
   "outputs": [],
   "source": [
    "cols_drop = ['created_on','operation','country_name','lat-lon']"
   ]
  },
  {
   "cell_type": "code",
   "execution_count": 26,
   "metadata": {},
   "outputs": [],
   "source": [
    "propiedades['surface_total_in_m2'] = propiedades['surface_total_in_m2'].apply(lambda x: np.nan if x <= 20 else x)\n",
    "propiedades['surface_covered_in_m2'] = propiedades['surface_covered_in_m2'].apply(lambda x: np.nan if x <= 20 else x)\n",
    "propiedades['surface_total_in_m2'] = propiedades['surface_total_in_m2'].apply(lambda x: np.nan if x >= 10000 else x)\n",
    "propiedades['surface_covered_in_m2'] = propiedades['surface_covered_in_m2'].apply(lambda x: np.nan if x >= 1000 else x)\n",
    "propiedades['floor'] = propiedades['floor'].apply(lambda x: np.nan if x >= 50 else x)\n",
    "propiedades['rooms'] = propiedades['rooms'].apply(lambda x: np.nan if x >= 15 else x)"
   ]
  },
  {
   "cell_type": "code",
   "execution_count": 27,
   "metadata": {},
   "outputs": [],
   "source": [
    "def validarExpensas(row):\n",
    "    if(type(row['expenses']) == type(1) or type(row['expenses']) == type(1.)):\n",
    "        return row['expenses']\n",
    "    if row['expenses'].isdigit():\n",
    "        return float(row['expenses'])\n",
    "    return np.nan"
   ]
  },
  {
   "cell_type": "code",
   "execution_count": 28,
   "metadata": {},
   "outputs": [],
   "source": [
    "propiedades['expenses'] = propiedades['expenses'].replace('[\\$,)]','',  \\\n",
    "        regex=True).replace('[(]','-', regex=True)\n",
    "propiedades['expenses'] = propiedades.apply(lambda row: validarExpensas(row), axis=1)"
   ]
  },
  {
   "cell_type": "code",
   "execution_count": 29,
   "metadata": {},
   "outputs": [],
   "source": [
    "dic_categories['property_type'] = ['ph', 'departamento', 'casa']"
   ]
  },
  {
   "cell_type": "code",
   "execution_count": 30,
   "metadata": {},
   "outputs": [],
   "source": [
    "for cat in categories:\n",
    "    propiedades[cat] = propiedades[cat].apply(lambda x: categorical(x,cat))"
   ]
  },
  {
   "cell_type": "code",
   "execution_count": 31,
   "metadata": {},
   "outputs": [],
   "source": [
    "propiedades = propiedades.drop(propiedades[cols_drop], axis=1)\n",
    "CSV_NAME = 'data/testing.csv'\n",
    "propiedades.to_csv(CSV_NAME, index=False)"
   ]
  },
  {
   "cell_type": "code",
   "execution_count": 32,
   "metadata": {},
   "outputs": [
    {
     "name": "stdout",
     "output_type": "stream",
     "text": [
      "<class 'pandas.core.frame.DataFrame'>\n",
      "RangeIndex: 14166 entries, 0 to 14165\n",
      "Data columns (total 13 columns):\n",
      "id                         14166 non-null int64\n",
      "property_type              14166 non-null int64\n",
      "place_name                 14166 non-null int64\n",
      "place_with_parent_names    14166 non-null int64\n",
      "state_name                 14166 non-null int64\n",
      "lat                        10487 non-null float64\n",
      "lon                        10487 non-null float64\n",
      "surface_total_in_m2        11800 non-null float64\n",
      "surface_covered_in_m2      12806 non-null float64\n",
      "floor                      1357 non-null float64\n",
      "rooms                      7495 non-null float64\n",
      "expenses                   2514 non-null float64\n",
      "description                14166 non-null object\n",
      "dtypes: float64(7), int64(5), object(1)\n",
      "memory usage: 1.4+ MB\n"
     ]
    }
   ],
   "source": [
    "df_tr = pd.read_csv(CSV_NAME, low_memory=False)\n",
    "df_tr.info()"
   ]
  },
  {
   "cell_type": "code",
   "execution_count": null,
   "metadata": {},
   "outputs": [],
   "source": [
    "df_tr_grupos"
   ]
  },
  {
   "cell_type": "code",
   "execution_count": null,
   "metadata": {},
   "outputs": [],
   "source": []
  },
  {
   "cell_type": "code",
   "execution_count": null,
   "metadata": {},
   "outputs": [],
   "source": []
  }
 ],
 "metadata": {
  "kernelspec": {
   "display_name": "Python 3",
   "language": "python",
   "name": "python3"
  },
  "language_info": {
   "codemirror_mode": {
    "name": "ipython",
    "version": 3
   },
   "file_extension": ".py",
   "mimetype": "text/x-python",
   "name": "python",
   "nbconvert_exporter": "python",
   "pygments_lexer": "ipython3",
   "version": "3.6.3"
  }
 },
 "nbformat": 4,
 "nbformat_minor": 2
}
