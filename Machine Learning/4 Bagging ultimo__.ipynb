{
 "cells": [
  {
   "cell_type": "code",
   "execution_count": 1,
   "metadata": {
    "collapsed": true
   },
   "outputs": [],
   "source": [
    "import pandas as pd\n",
    "import numpy as np\n",
    "from sklearn.ensemble import BaggingRegressor\n",
    "from sklearn.model_selection import train_test_split"
   ]
  },
  {
   "cell_type": "code",
   "execution_count": 2,
   "metadata": {
    "collapsed": true
   },
   "outputs": [],
   "source": [
    "FILE_TRAIN = 'data/pp-training.csv'\n",
    "FILE_TEST = 'data/pp-testing.csv'"
   ]
  },
  {
   "cell_type": "code",
   "execution_count": 3,
   "metadata": {
    "collapsed": true
   },
   "outputs": [],
   "source": [
    "df = pd.read_csv(FILE_TRAIN, low_memory=False)"
   ]
  },
  {
   "cell_type": "code",
   "execution_count": 15,
   "metadata": {
    "collapsed": true
   },
   "outputs": [],
   "source": [
    "allcols = df.columns\n",
    "alldata = df\n",
    "X_train, X_test, y_train, y_test = train_test_split(alldata.drop(['price'], axis=1),alldata.price, test_size=0.4, train_size=0.1, random_state=0)"
   ]
  },
  {
   "cell_type": "code",
   "execution_count": 5,
   "metadata": {},
   "outputs": [
    {
     "data": {
      "text/plain": [
       "0.69584579453749307"
      ]
     },
     "execution_count": 5,
     "metadata": {},
     "output_type": "execute_result"
    }
   ],
   "source": [
    "# probando los valores por default\n",
    "bag = BaggingRegressor(random_state=0)\n",
    "bag.fit(X_train,y_train)\n",
    "bag.score(X_test,y_test)"
   ]
  },
  {
   "cell_type": "code",
   "execution_count": 16,
   "metadata": {
    "scrolled": true
   },
   "outputs": [
    {
     "data": {
      "text/plain": [
       "[<matplotlib.lines.Line2D at 0x7f7a202d3ba8>]"
      ]
     },
     "execution_count": 16,
     "metadata": {},
     "output_type": "execute_result"
    },
    {
     "data": {
      "image/png": "[encoded data removed]",
      "text/plain": [
       "<matplotlib.figure.Figure at 0x7f7a26a757f0>"
      ]
     },
     "metadata": {},
     "output_type": "display_data"
    }
   ],
   "source": [
    "#vemos si aumentando la cantidad de estimadores mejora el score\n",
    "scores = []\n",
    "n=10\n",
    "for i in range(30):\n",
    "    bag.set_params(n_estimators=n, n_jobs=-1)\n",
    "    bag.fit(X_train,y_train)\n",
    "    scores.append(mean_squared_error(bag.predict(X_test), y_test))\n",
    "    n+=10\n",
    "%matplotlib inline\n",
    "import matplotlib.pyplot as plt\n",
    "plt.plot(scores)"
   ]
  },
  {
   "cell_type": "code",
   "execution_count": 7,
   "metadata": {},
   "outputs": [
    {
     "data": {
      "text/plain": [
       "0.57739344696023265"
      ]
     },
     "execution_count": 7,
     "metadata": {},
     "output_type": "execute_result"
    }
   ],
   "source": [
    "bag.set_params(n_estimators=70)\n",
    "bag.fit(X_train,y_train)\n",
    "bag.score(X_test,y_test)"
   ]
  },
  {
   "cell_type": "code",
   "execution_count": 8,
   "metadata": {},
   "outputs": [
    {
     "data": {
      "image/png": "[encoded data removed]",
      "text/plain": [
       "<matplotlib.figure.Figure at 0x7fb926fe6ef0>"
      ]
     },
     "metadata": {},
     "output_type": "display_data"
    }
   ],
   "source": [
    "from sklearn.model_selection import cross_val_predict\n",
    "import matplotlib.pyplot as plt\n",
    "\n",
    "\n",
    "# cross_val_predict returns an array of the same size as `y` where each entry\n",
    "# is a prediction obtained by cross validation:\n",
    "predicted = cross_val_predict(bag, df, df.price, cv=10)\n",
    "\n",
    "fig, ax = plt.subplots()\n",
    "ax.scatter(df.price, predicted, edgecolors=(0, 0, 0))\n",
    "ax.plot([df.price.min(), df.price.max()], [df.price.min(), df.price.max()], 'k--', lw=4)\n",
    "ax.set_xlabel('Measured')\n",
    "ax.set_ylabel('Predicted')\n",
    "plt.show()"
   ]
  },
  {
   "cell_type": "code",
   "execution_count": 6,
   "metadata": {},
   "outputs": [
    {
     "data": {
      "text/plain": [
       "31479275288.116489"
      ]
     },
     "execution_count": 6,
     "metadata": {},
     "output_type": "execute_result"
    }
   ],
   "source": [
    "from sklearn.metrics import mean_squared_error\n",
    "allcols = df.columns\n",
    "alldata = df\n",
    "X_train, X_test, y_train, y_test = train_test_split(alldata.drop(['price'], axis=1),alldata.price, test_size=0.1, train_size=0.9, random_state=0)\n",
    "bag.set_params(n_estimators=70)\n",
    "bag.fit(X_train,y_train)\n",
    "mean_squared_error(bag.predict(X_test), y_test)"
   ]
  },
  {
   "cell_type": "code",
   "execution_count": 14,
   "metadata": {},
   "outputs": [
    {
     "data": {
      "text/plain": [
       "29438261874.174408"
      ]
     },
     "execution_count": 14,
     "metadata": {},
     "output_type": "execute_result"
    }
   ],
   "source": [
    "bag = BaggingRegressor(random_state=0, n_jobs=-1)\n",
    "bag.set_params(n_estimators=70, bootstrap_features=True)\n",
    "bag.fit(X_train,y_train)\n",
    "mean_squared_error(bag.predict(X_test), y_test)"
   ]
  },
  {
   "cell_type": "code",
   "execution_count": 17,
   "metadata": {},
   "outputs": [
    {
     "data": {
      "text/plain": [
       "30654883625.348637"
      ]
     },
     "execution_count": 17,
     "metadata": {},
     "output_type": "execute_result"
    }
   ],
   "source": [
    "bag = BaggingRegressor(random_state=0, n_jobs=-1)\n",
    "bag.set_params(n_estimators=70, bootstrap_features=True, max_samples=0.9, max_features=0.9)\n",
    "bag.fit(X_train,y_train)\n",
    "mean_squared_error(bag.predict(X_test), y_test)"
   ]
  },
  {
   "cell_type": "code",
   "execution_count": 18,
   "metadata": {},
   "outputs": [
    {
     "data": {
      "text/plain": [
       "117183292660.61284"
      ]
     },
     "execution_count": 18,
     "metadata": {},
     "output_type": "execute_result"
    }
   ],
   "source": [
    "bag = BaggingRegressor(random_state=0, n_jobs=-1)\n",
    "bag.set_params(n_estimators=70, bootstrap_features=True, max_samples=1, max_features=0.9)\n",
    "bag.fit(X_train,y_train)\n",
    "mean_squared_error(bag.predict(X_test), y_test)"
   ]
  },
  {
   "cell_type": "code",
   "execution_count": 21,
   "metadata": {},
   "outputs": [
    {
     "data": {
      "text/plain": [
       "29264059984.790657"
      ]
     },
     "execution_count": 21,
     "metadata": {},
     "output_type": "execute_result"
    }
   ],
   "source": [
    "#Mejor\n",
    "bag = BaggingRegressor(random_state=0, n_jobs=-1)\n",
    "bag.set_params(n_estimators=80, bootstrap_features=True)\n",
    "bag.fit(X_train,y_train)\n",
    "mean_squared_error(bag.predict(X_test), y_test)"
   ]
  },
  {
   "cell_type": "code",
   "execution_count": 23,
   "metadata": {},
   "outputs": [
    {
     "data": {
      "text/plain": [
       "29273723575.155815"
      ]
     },
     "execution_count": 23,
     "metadata": {},
     "output_type": "execute_result"
    }
   ],
   "source": [
    "bag = BaggingRegressor(random_state=0, n_jobs=-1)\n",
    "bag.set_params(n_estimators=100, bootstrap_features=True)\n",
    "bag.fit(X_train,y_train)\n",
    "mean_squared_error(bag.predict(X_test), y_test)"
   ]
  },
  {
   "cell_type": "code",
   "execution_count": 26,
   "metadata": {
    "scrolled": true
   },
   "outputs": [
    {
     "data": {
      "text/plain": [
       "BaggingRegressor(base_estimator=None, bootstrap=True, bootstrap_features=True,\n",
       "         max_features=1.0, max_samples=1.0, n_estimators=80, n_jobs=-1,\n",
       "         oob_score=False, random_state=0, verbose=0, warm_start=False)"
      ]
     },
     "execution_count": 26,
     "metadata": {},
     "output_type": "execute_result"
    }
   ],
   "source": [
    "bag = BaggingRegressor(random_state=0, n_jobs=-1)\n",
    "bag.set_params(n_estimators=80, bootstrap_features=True)"
   ]
  },
  {
   "cell_type": "code",
   "execution_count": 27,
   "metadata": {},
   "outputs": [
    {
     "data": {
      "text/plain": [
       "BaggingRegressor(base_estimator=None, bootstrap=True, bootstrap_features=True,\n",
       "         max_features=1.0, max_samples=1.0, n_estimators=80, n_jobs=-1,\n",
       "         oob_score=False, random_state=0, verbose=0, warm_start=False)"
      ]
     },
     "execution_count": 27,
     "metadata": {},
     "output_type": "execute_result"
    }
   ],
   "source": [
    "bag.fit(alldata.drop(['price'], axis=1),alldata.price)"
   ]
  },
  {
   "cell_type": "code",
   "execution_count": 30,
   "metadata": {
    "collapsed": true
   },
   "outputs": [],
   "source": [
    "df = pd.read_csv(FILE_TEST, low_memory=False)\n",
    "predicted = bag.predict(df)\n",
    "df = df[list(alldata.drop(['price'], axis=1))]\n",
    "predicted_2 = bag.predict(df)"
   ]
  },
  {
   "cell_type": "code",
   "execution_count": 38,
   "metadata": {
    "collapsed": true
   },
   "outputs": [],
   "source": [
    "ids = pd.read_csv('data/properati_dataset_testing_noprice.csv')\n",
    "ids = ids[['id']]\n",
    "df2 = pd.DataFrame(predicted)\n",
    "df3 = ids.join(df2)\n",
    "df3.columns = ['id','price_usd']\n",
    "df3.to_csv('data/prediccion-kaggle-bagg-1.csv', index=False)\n",
    "df3 = df3.set_index('id')"
   ]
  },
  {
   "cell_type": "code",
   "execution_count": 43,
   "metadata": {
    "collapsed": true
   },
   "outputs": [],
   "source": [
    "# Menos columnas\n",
    "df = pd.read_csv(FILE_TRAIN, low_memory=False)"
   ]
  },
  {
   "cell_type": "code",
   "execution_count": 52,
   "metadata": {
    "collapsed": true
   },
   "outputs": [],
   "source": [
    "cols = ['surface_covered_in_m2','lat','lon','property_type','pileta','cochera','tipos de ambientes']\n",
    "X_train, X_test, y_train, y_test = train_test_split(alldata[cols],alldata.price, test_size=0.1, train_size=0.9, random_state=0)"
   ]
  },
  {
   "cell_type": "code",
   "execution_count": 53,
   "metadata": {},
   "outputs": [
    {
     "data": {
      "text/plain": [
       "35640913305.461769"
      ]
     },
     "execution_count": 53,
     "metadata": {},
     "output_type": "execute_result"
    }
   ],
   "source": [
    "bag = BaggingRegressor(random_state=0, n_jobs=-1)\n",
    "bag.set_params(n_estimators=80, bootstrap_features=True)\n",
    "bag.fit(X_train,y_train)\n",
    "mean_squared_error(bag.predict(X_test), y_test)"
   ]
  },
  {
   "cell_type": "code",
   "execution_count": null,
   "metadata": {
    "collapsed": true
   },
   "outputs": [],
   "source": []
  },
  {
   "cell_type": "code",
   "execution_count": null,
   "metadata": {
    "collapsed": true
   },
   "outputs": [],
   "source": []
  },
  {
   "cell_type": "code",
   "execution_count": null,
   "metadata": {
    "collapsed": true
   },
   "outputs": [],
   "source": []
  },
  {
   "cell_type": "code",
   "execution_count": 14,
   "metadata": {},
   "outputs": [
    {
     "data": {
      "text/plain": [
       "1.0604657725276212"
      ]
     },
     "execution_count": 14,
     "metadata": {},
     "output_type": "execute_result"
    }
   ],
   "source": [
    "100 -((28953724645.0 * 100)/29264059984.790657)"
   ]
  },
  {
   "cell_type": "code",
   "execution_count": null,
   "metadata": {
    "collapsed": true
   },
   "outputs": [],
   "source": []
  },
  {
   "cell_type": "code",
   "execution_count": 9,
   "metadata": {},
   "outputs": [
    {
     "name": "stdout",
     "output_type": "stream",
     "text": [
      "28953724645.0\n",
      "0.74818381328\n"
     ]
    }
   ],
   "source": [
    "bag = BaggingRegressor(random_state=0, n_jobs=-1)\n",
    "bag.set_params(n_estimators=200, bootstrap_features=True)\n",
    "bag.fit(X_train,y_train)\n",
    "print(mean_squared_error(bag.predict(X_test), y_test))\n",
    "print(bag.score(X_test,y_test))"
   ]
  },
  {
   "cell_type": "code",
   "execution_count": 17,
   "metadata": {
    "collapsed": true
   },
   "outputs": [],
   "source": [
    "X_train, X_test, y_train, y_test = train_test_split(alldata.drop(['price'],axis=1),alldata.price, test_size=0.01, train_size=0.99, random_state=0)"
   ]
  },
  {
   "cell_type": "code",
   "execution_count": 11,
   "metadata": {},
   "outputs": [
    {
     "name": "stdout",
     "output_type": "stream",
     "text": [
      "28953724645.0\n",
      "0.74818381328\n"
     ]
    }
   ],
   "source": [
    "bag = BaggingRegressor(random_state=0, n_jobs=-1)\n",
    "bag.set_params(n_estimators=250, bootstrap_features=True)\n",
    "bag.fit(X_train,y_train)\n",
    "print(mean_squared_error(bag.predict(X_test), y_test))\n",
    "print(bag.score(X_test,y_test))"
   ]
  },
  {
   "cell_type": "code",
   "execution_count": null,
   "metadata": {
    "collapsed": true
   },
   "outputs": [],
   "source": []
  }
 ],
 "metadata": {
  "kernelspec": {
   "display_name": "Python 3",
   "language": "python",
   "name": "python3"
  },
  "language_info": {
   "codemirror_mode": {
    "name": "ipython",
    "version": 3
   },
   "file_extension": ".py",
   "mimetype": "text/x-python",
   "name": "python",
   "nbconvert_exporter": "python",
   "pygments_lexer": "ipython3",
   "version": "3.6.3"
  }
 },
 "nbformat": 4,
 "nbformat_minor": 2
}
