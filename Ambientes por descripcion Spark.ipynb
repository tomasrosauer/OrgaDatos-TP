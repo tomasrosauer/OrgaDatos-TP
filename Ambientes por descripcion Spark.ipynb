{
 "cells": [
  {
   "cell_type": "code",
   "execution_count": 1,
   "metadata": {},
   "outputs": [
    {
     "data": {
      "text/html": [
       "<style>.container { width:100% !important; }</style>"
      ],
      "text/plain": [
       "<IPython.core.display.HTML object>"
      ]
     },
     "metadata": {},
     "output_type": "display_data"
    }
   ],
   "source": [
    "from IPython.core.display import display, HTML\n",
    "display(HTML(\"<style>.container { width:100% !important; }</style>\"))"
   ]
  },
  {
   "cell_type": "code",
   "execution_count": 2,
   "metadata": {
    "collapsed": true
   },
   "outputs": [],
   "source": [
    "import pyspark\n",
    "\n",
    "try: \n",
    "    type(sc)\n",
    "except NameError:\n",
    "    sc = pyspark.SparkContext('local[*]')"
   ]
  },
  {
   "cell_type": "code",
   "execution_count": 3,
   "metadata": {
    "collapsed": true
   },
   "outputs": [],
   "source": [
    "from pyspark.sql import SQLContext\n",
    "sqlContext = SQLContext(sc)\n",
    "\n",
    "import pyspark_csv as pycsv\n",
    "sc.addPyFile('pyspark_csv.py')\n",
    "plaintext_rdd = sc.textFile('propiedades-clean.csv')\n",
    "dataframe = pycsv.csvToDataFrame(sqlContext, plaintext_rdd)\n",
    "data = dataframe.rdd"
   ]
  },
  {
   "cell_type": "code",
   "execution_count": 4,
   "metadata": {
    "collapsed": true
   },
   "outputs": [],
   "source": [
    "import re, string, unicodedata\n",
    "def removePunctuation(text):\n",
    "    \n",
    "    text=str(text).lower().strip(' ')\n",
    "    text=unicodedata.normalize('NFD', text).encode('ascii','ignore')\n",
    "    text=text.decode('utf-8')\n",
    "    text=re.sub(r'[^a-zA-Z0-9 ]', '', text)   \n",
    "    return text\n"
   ]
  },
  {
   "cell_type": "code",
   "execution_count": 5,
   "metadata": {},
   "outputs": [
    {
     "name": "stdout",
     "output_type": "stream",
     "text": [
      "0 ---> Column<b''>\n",
      "1 ---> Column<b'created_on'>\n",
      "2 ---> Column<b'year'>\n",
      "3 ---> Column<b'currency'>\n",
      "4 ---> Column<b'description'>\n",
      "5 ---> Column<b'expenses'>\n",
      "6 ---> Column<b'floor'>\n",
      "7 ---> Column<b'geonames_id'>\n",
      "8 ---> Column<b'id'>\n",
      "9 ---> Column<b'lat'>\n",
      "10 ---> Column<b'lon'>\n",
      "11 ---> Column<b'operation'>\n",
      "12 ---> Column<b'place_name'>\n",
      "13 ---> Column<b'place_with_parent_names'>\n",
      "14 ---> Column<b'price'>\n",
      "15 ---> Column<b'price_aprox_local_currency'>\n",
      "16 ---> Column<b'price_aprox_usd'>\n",
      "17 ---> Column<b'price_per_m2'>\n",
      "18 ---> Column<b'price_usd_per_m2'>\n",
      "19 ---> Column<b'property_type'>\n",
      "20 ---> Column<b'rooms'>\n",
      "21 ---> Column<b'state_name'>\n",
      "22 ---> Column<b'surface_covered_in_m2'>\n",
      "23 ---> Column<b'surface_total_in_m2'>\n"
     ]
    }
   ],
   "source": [
    "i = 0\n",
    "for row in dataframe:\n",
    "    print(i, \"--->\", row)\n",
    "    i += 1"
   ]
  },
  {
   "cell_type": "code",
   "execution_count": 6,
   "metadata": {},
   "outputs": [
    {
     "data": {
      "text/plain": [
       "221341"
      ]
     },
     "execution_count": 6,
     "metadata": {},
     "output_type": "execute_result"
    }
   ],
   "source": [
    "# id, rooms, description\n",
    "asd = data.map(lambda x: (x[8], x[20], x[4]))\n",
    "def formato(x):\n",
    "    if x[1] == None:\n",
    "        return((x[0],0,x[2]))\n",
    "    return x\n",
    "asd = asd.map(formato)\n",
    "asd.count()"
   ]
  },
  {
   "cell_type": "code",
   "execution_count": 7,
   "metadata": {},
   "outputs": [
    {
     "name": "stdout",
     "output_type": "stream",
     "text": [
      "Datos con descripcion nula: 0\n"
     ]
    }
   ],
   "source": [
    "idYdes = asd.map(lambda x: (x[0], x[1], removePunctuation(x[2])))\n",
    "antes = idYdes.count()\n",
    "idYdes = idYdes.filter(lambda x: x[2] != None)\n",
    "final = antes - idYdes.count()\n",
    "print(\"Datos con descripcion nula: \" + str(final))"
   ]
  },
  {
   "cell_type": "code",
   "execution_count": 8,
   "metadata": {
    "collapsed": true
   },
   "outputs": [],
   "source": [
    "def letrasANumero(word):\n",
    "    dic = {\n",
    "        'mono': '1',\n",
    "        'uno': '1',\n",
    "        'un': '1',\n",
    "        'dos': '2',\n",
    "        'tres': '3',\n",
    "        'cuatro': '4',\n",
    "        'cinco': '5',\n",
    "        'seis': '6',\n",
    "        'siete': '7',\n",
    "        'ocho': '8'\n",
    "    }\n",
    "    if word in dic:\n",
    "        return dic[word]\n",
    "    else:\n",
    "        return word\n",
    "    \n",
    "\n",
    "def buscarBigramas(s, *words):\n",
    "    r = 0\n",
    "    l = s.split()\n",
    "    for i in range(0,len(l)-1):\n",
    "        try:\n",
    "            n = int(letrasANumero(l[i]))\n",
    "            if l[i+1] in words:\n",
    "                if n > r:\n",
    "                    r = n\n",
    "        except ValueError:\n",
    "            None\n",
    "        try:\n",
    "            n = int(letrasANumero(l[i+1]))\n",
    "            if l[i] == words:\n",
    "                if int(n) > r:\n",
    "                    r = n\n",
    "        except ValueError:\n",
    "            None\n",
    "    return r"
   ]
  },
  {
   "cell_type": "code",
   "execution_count": 9,
   "metadata": {},
   "outputs": [
    {
     "data": {
      "text/plain": [
       "39969"
      ]
     },
     "execution_count": 9,
     "metadata": {},
     "output_type": "execute_result"
    }
   ],
   "source": [
    "idYdesFilter = idYdes.map(lambda x: (x[0], x[1], buscarBigramas(x[2],'ambientes','ambiente')))\n",
    "idYdesFilter = idYdesFilter.filter(lambda x: x[1] < x[2])\n",
    "idYdesFilter = idYdesFilter.filter(lambda x: x[2] < 15)\n",
    "idYdesFilter.count()"
   ]
  },
  {
   "cell_type": "code",
   "execution_count": 18,
   "metadata": {
    "collapsed": true
   },
   "outputs": [],
   "source": [
    "df = idYdesFilter.collect()\n",
    "import pandas as pd\n",
    "df = pd.DataFrame(df)"
   ]
  },
  {
   "cell_type": "code",
   "execution_count": 11,
   "metadata": {
    "collapsed": true
   },
   "outputs": [],
   "source": [
    "df.columns = ['id', 'Ambientes', 'Abientes Actualizado']"
   ]
  },
  {
   "cell_type": "code",
   "execution_count": 16,
   "metadata": {
    "collapsed": true
   },
   "outputs": [],
   "source": [
    "df.head(10)\n",
    "df = df.drop(df[['Ambientes']], axis=1)\n",
    "df.columns = ['id', 'rooms']"
   ]
  },
  {
   "cell_type": "code",
   "execution_count": 17,
   "metadata": {
    "collapsed": true
   },
   "outputs": [],
   "source": [
    "df.to_csv('ambientesActualizados.csv')"
   ]
  }
 ],
 "metadata": {
  "kernelspec": {
   "display_name": "Python 3",
   "language": "python",
   "name": "python3"
  },
  "language_info": {
   "codemirror_mode": {
    "name": "ipython",
    "version": 3
   },
   "file_extension": ".py",
   "mimetype": "text/x-python",
   "name": "python",
   "nbconvert_exporter": "python",
   "pygments_lexer": "ipython3",
   "version": "3.6.1"
  }
 },
 "nbformat": 4,
 "nbformat_minor": 2
}
