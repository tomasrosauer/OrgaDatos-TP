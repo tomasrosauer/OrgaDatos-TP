{
 "cells": [
  {
   "cell_type": "code",
   "execution_count": 1,
   "metadata": {
    "collapsed": true
   },
   "outputs": [],
   "source": [
    "import pandas as pd"
   ]
  },
  {
   "cell_type": "code",
   "execution_count": 2,
   "metadata": {
    "collapsed": true
   },
   "outputs": [],
   "source": [
    "propiedades = pd.read_csv('propiedades_completo.csv', low_memory=False)"
   ]
  },
  {
   "cell_type": "code",
   "execution_count": 3,
   "metadata": {},
   "outputs": [
    {
     "name": "stdout",
     "output_type": "stream",
     "text": [
      "<class 'pandas.core.frame.DataFrame'>\n",
      "RangeIndex: 338158 entries, 0 to 338157\n",
      "Data columns (total 30 columns):\n",
      "Unnamed: 0                    338158 non-null int64\n",
      "country_name                  338157 non-null object\n",
      "created_on                    338158 non-null object\n",
      "currency                      289613 non-null object\n",
      "description                   338144 non-null object\n",
      "expenses                      36702 non-null float64\n",
      "extra                         1 non-null object\n",
      "floor                         31796 non-null float64\n",
      "geonames_id                   287419 non-null float64\n",
      "id                            338157 non-null object\n",
      "image_thumbnail               332554 non-null object\n",
      "lat                           245153 non-null float64\n",
      "lat-lon                       245153 non-null object\n",
      "lon                           245153 non-null float64\n",
      "operation                     338158 non-null object\n",
      "place_name                    338096 non-null object\n",
      "place_with_parent_names       338158 non-null object\n",
      "price                         298775 non-null float64\n",
      "price_aprox_local_currency    298775 non-null float64\n",
      "price_aprox_usd               298775 non-null float64\n",
      "price_per_m2                  243586 non-null float64\n",
      "price_usd_per_m2              188696 non-null float64\n",
      "properati_url                 338158 non-null object\n",
      "property_type                 338158 non-null object\n",
      "rooms                         179794 non-null float64\n",
      "state_name                    338157 non-null object\n",
      "surface_covered_in_m2         277110 non-null float64\n",
      "surface_in_m2                 0 non-null float64\n",
      "surface_total_in_m2           227645 non-null float64\n",
      "title                         338158 non-null object\n",
      "dtypes: float64(14), int64(1), object(15)\n",
      "memory usage: 77.4+ MB\n"
     ]
    }
   ],
   "source": [
    "propiedades.info()"
   ]
  },
  {
   "cell_type": "code",
   "execution_count": 4,
   "metadata": {
    "collapsed": true
   },
   "outputs": [],
   "source": [
    "propiedades = propiedades.loc[propiedades.state_name.str.contains('G.B.A') | propiedades.state_name.str.contains('Capital Federal')]\n",
    "propiedades['created_on'] = pd.to_datetime(propiedades['created_on'])\n",
    "propiedades.insert(3, 'year', propiedades['created_on'].dt.year)\n",
    "propiedades['year'] = propiedades['year'].fillna(0).astype(int)\n",
    "propiedades = propiedades.loc[propiedades.year > 2012]\n",
    "propiedades = propiedades.drop(propiedades[['Unnamed: 0','country_name','lat-lon','properati_url','image_thumbnail','surface_in_m2','title','extra']], axis=1)\n",
    "\n"
   ]
  },
  {
   "cell_type": "code",
   "execution_count": 5,
   "metadata": {
    "collapsed": true
   },
   "outputs": [],
   "source": [
    "def priceFromM2(row):\n",
    "    if(np.isnan(row['price_aprox_usd']) and not np.isnan(row['price_usd_per_m2']) and not np.isnan(row['surface_total_in_m2'])):\n",
    "        return (row['price_usd_per_m2'] * row['surface_total_in_m2'])\n",
    "    return row['price_aprox_usd']\n",
    "\n",
    "def priceToUsd(row):\n",
    "    if(np.isnan(row['price_aprox_usd']) and (row['price'] != row['price_aprox_usd'])):\n",
    "        return row['price_aprox_usd']\n",
    "    return row['price']\n",
    "\n",
    "def totalM2toAparment(row):\n",
    "    if(np.isnan(row['surface_total_in_m2']) and not np.isnan(row['surface_covered_in_m2']) and (str(row['property_type']) != 'house')):\n",
    "        return row['surface_covered_in_m2']\n",
    "    return row['surface_total_in_m2']\n",
    "    \n",
    "def getPM2FromPriceAndM2(row):\n",
    "    if(np.isnan(row['price_usd_per_m2']) and (not np.isnan(row['price_aprox_usd']) and not np.isnan(row['surface_total_in_m2']) and row['surface_total_in_m2'] != 0)):\n",
    "        return (row['price_aprox_usd'] / row['surface_total_in_m2'])\n",
    "    return row['price_usd_per_m2']"
   ]
  },
  {
   "cell_type": "code",
   "execution_count": 6,
   "metadata": {
    "collapsed": true
   },
   "outputs": [],
   "source": [
    "import numpy as np\n",
    "\n",
    "propiedades['price'] = propiedades.apply(lambda row: priceToUsd(row), axis=1)\n",
    "propiedades['surface_total_in_m2'] = propiedades.apply(lambda row: totalM2toAparment(row), axis=1)\n",
    "propiedades['price_usd_per_m2'] = propiedades.apply(lambda row: getPM2FromPriceAndM2(row), axis=1)\n",
    "propiedades['price_aprox_usd'] = propiedades.apply(lambda row: priceFromM2(row), axis=1)"
   ]
  },
  {
   "cell_type": "code",
   "execution_count": 7,
   "metadata": {
    "collapsed": true
   },
   "outputs": [],
   "source": [
    "propiedades.to_csv('propiedades-clean.csv')"
   ]
  },
  {
   "cell_type": "code",
   "execution_count": 8,
   "metadata": {},
   "outputs": [
    {
     "name": "stdout",
     "output_type": "stream",
     "text": [
      "<class 'pandas.core.frame.DataFrame'>\n",
      "Int64Index: 221341 entries, 1 to 338156\n",
      "Data columns (total 23 columns):\n",
      "created_on                    221341 non-null datetime64[ns]\n",
      "year                          221341 non-null int64\n",
      "currency                      200125 non-null object\n",
      "description                   221331 non-null object\n",
      "expenses                      30133 non-null float64\n",
      "floor                         24326 non-null float64\n",
      "geonames_id                   176375 non-null float64\n",
      "id                            221341 non-null object\n",
      "lat                           155883 non-null float64\n",
      "lon                           155883 non-null float64\n",
      "operation                     221341 non-null object\n",
      "place_name                    221279 non-null object\n",
      "place_with_parent_names       221341 non-null object\n",
      "price                         204141 non-null float64\n",
      "price_aprox_local_currency    204141 non-null float64\n",
      "price_aprox_usd               204141 non-null float64\n",
      "price_per_m2                  177912 non-null float64\n",
      "price_usd_per_m2              170495 non-null float64\n",
      "property_type                 221341 non-null object\n",
      "rooms                         115621 non-null float64\n",
      "state_name                    221341 non-null object\n",
      "surface_covered_in_m2         195527 non-null float64\n",
      "surface_total_in_m2           191579 non-null float64\n",
      "dtypes: datetime64[ns](1), float64(13), int64(1), object(8)\n",
      "memory usage: 40.5+ MB\n"
     ]
    }
   ],
   "source": [
    "propiedades.info()"
   ]
  },
  {
   "cell_type": "code",
   "execution_count": null,
   "metadata": {
    "collapsed": true
   },
   "outputs": [],
   "source": []
  }
 ],
 "metadata": {
  "kernelspec": {
   "display_name": "Python 3",
   "language": "python",
   "name": "python3"
  },
  "language_info": {
   "codemirror_mode": {
    "name": "ipython",
    "version": 3
   },
   "file_extension": ".py",
   "mimetype": "text/x-python",
   "name": "python",
   "nbconvert_exporter": "python",
   "pygments_lexer": "ipython3",
   "version": "3.6.1"
  }
 },
 "nbformat": 4,
 "nbformat_minor": 2
}
